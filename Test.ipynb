{
  "nbformat": 4,
  "nbformat_minor": 0,
  "metadata": {
    "interpreter": {
      "hash": "d9e838f4042547f739d1b1f027dd72b8e5ca3943a316949c165d60cf50de5f84"
    },
    "kernelspec": {
      "display_name": "Python 3",
      "language": "python",
      "name": "python3"
    },
    "language_info": {
      "codemirror_mode": {
        "name": "ipython",
        "version": 3
      },
      "file_extension": ".py",
      "mimetype": "text/x-python",
      "name": "python",
      "nbconvert_exporter": "python",
      "pygments_lexer": "ipython3",
      "version": "3.7.4"
    },
    "colab": {
      "name": "Test.ipynb",
      "provenance": [],
      "collapsed_sections": [],
      "include_colab_link": true
    }
  },
  "cells": [
    {
      "cell_type": "markdown",
      "metadata": {
        "id": "view-in-github",
        "colab_type": "text"
      },
      "source": [
        "<a href=\"https://colab.research.google.com/github/rahul-8437008949/18103112_rahul/blob/main/Test.ipynb\" target=\"_parent\"><img src=\"https://colab.research.google.com/assets/colab-badge.svg\" alt=\"Open In Colab\"/></a>"
      ]
    },
    {
      "cell_type": "code",
      "metadata": {
        "id": "YyYqqNHkq2p4"
      },
      "source": [
        "import numpy as np\n",
        "from numpy import random\n",
        "import pandas as pd"
      ],
      "execution_count": 1,
      "outputs": []
    },
    {
      "cell_type": "code",
      "metadata": {
        "colab": {
          "base_uri": "https://localhost:8080/",
          "height": 0
        },
        "id": "7f5st-Ebq2p7",
        "outputId": "9f572c2e-474f-4a91-b52d-675f7335bb6e"
      },
      "source": [
        "f1 = np.array([pd.Series(random.randint(low=150,size=100)).astype(float)])\n",
        "f2 = np.array([pd.Series(random.permutation(np.linspace(20000,28000,100)))])\n",
        "f3 = np.array([pd.Series(np.arange(2000,2470,4.7))])\n",
        "index_nan = np.random.choice(f1.size, 6, replace=False)\n",
        "index_nan3 = np.random.choice(f3.size, 8, replace=False)\n",
        "f1=f1.flatten()\n",
        "f2=f2.flatten()\n",
        "f3=f3.flatten()\n",
        "\n",
        "f1.ravel()[index_nan] = np.nan\n",
        "f3.ravel()[index_nan3] = np.nan\n",
        "f4 = np.array([pd.Series(random.randint(low=10,size=100))])\n",
        "f4=f4.flatten()\n",
        "print(\"null values of f1: \" ,index_nan)\n",
        "print(\"null values of f3: \" ,index_nan3)\n",
        "#f1 random int in range of 100s \n",
        "#f2 in range of 20000s\n",
        "#f3 in range of 2000s\n",
        "#f4  in range less than 10\n",
        "#feature 1 and feature 3 has na values\n",
        "\n"
      ],
      "execution_count": 2,
      "outputs": [
        {
          "output_type": "stream",
          "name": "stdout",
          "text": [
            "null values of f1:  [73 49  6 39  8 81]\n",
            "null values of f3:  [26  6 63 48  5 75 55 78]\n"
          ]
        }
      ]
    },
    {
      "cell_type": "code",
      "metadata": {
        "colab": {
          "base_uri": "https://localhost:8080/",
          "height": 0
        },
        "id": "z3U-WwJ1q2p8",
        "outputId": "4c4c9a50-9545-4cc1-f6cf-62ac074217e6"
      },
      "source": [
        "Categoryvalues = ['M','N','O','P']\n",
        "\n",
        "Categories = []\n",
        "for i in range(100):\n",
        "    Categories.append(Categoryvalues[i%4])\n",
        "Categories = pd.Series(Categories)\n",
        "mcount=Categories[Categories=='M'].count()\n",
        "ncount=Categories[Categories=='N'].count()\n",
        "ocount=Categories[Categories=='O'].count()\n",
        "pcount=Categories[Categories=='P'].count()\n",
        "# these contain count of different values\n",
        "print(Categories)\n"
      ],
      "execution_count": 3,
      "outputs": [
        {
          "output_type": "stream",
          "name": "stdout",
          "text": [
            "0     M\n",
            "1     N\n",
            "2     O\n",
            "3     P\n",
            "4     M\n",
            "     ..\n",
            "95    P\n",
            "96    M\n",
            "97    N\n",
            "98    O\n",
            "99    P\n",
            "Length: 100, dtype: object\n"
          ]
        }
      ]
    },
    {
      "cell_type": "code",
      "metadata": {
        "colab": {
          "base_uri": "https://localhost:8080/",
          "height": 424
        },
        "id": "_zZJgNjaq2p-",
        "outputId": "15cdde72-bb98-4013-be56-4c635c438dda"
      },
      "source": [
        "df = pd.DataFrame({'Feature1':pd.Series(f1),'Feature2':f2,'Feature3':f3,'Feature4':f4})\n",
        "df"
      ],
      "execution_count": 4,
      "outputs": [
        {
          "output_type": "execute_result",
          "data": {
            "text/html": [
              "<div>\n",
              "<style scoped>\n",
              "    .dataframe tbody tr th:only-of-type {\n",
              "        vertical-align: middle;\n",
              "    }\n",
              "\n",
              "    .dataframe tbody tr th {\n",
              "        vertical-align: top;\n",
              "    }\n",
              "\n",
              "    .dataframe thead th {\n",
              "        text-align: right;\n",
              "    }\n",
              "</style>\n",
              "<table border=\"1\" class=\"dataframe\">\n",
              "  <thead>\n",
              "    <tr style=\"text-align: right;\">\n",
              "      <th></th>\n",
              "      <th>Feature1</th>\n",
              "      <th>Feature2</th>\n",
              "      <th>Feature3</th>\n",
              "      <th>Feature4</th>\n",
              "    </tr>\n",
              "  </thead>\n",
              "  <tbody>\n",
              "    <tr>\n",
              "      <th>0</th>\n",
              "      <td>83.0</td>\n",
              "      <td>22343.434343</td>\n",
              "      <td>2000.0</td>\n",
              "      <td>7</td>\n",
              "    </tr>\n",
              "    <tr>\n",
              "      <th>1</th>\n",
              "      <td>137.0</td>\n",
              "      <td>24525.252525</td>\n",
              "      <td>2004.7</td>\n",
              "      <td>1</td>\n",
              "    </tr>\n",
              "    <tr>\n",
              "      <th>2</th>\n",
              "      <td>17.0</td>\n",
              "      <td>22424.242424</td>\n",
              "      <td>2009.4</td>\n",
              "      <td>7</td>\n",
              "    </tr>\n",
              "    <tr>\n",
              "      <th>3</th>\n",
              "      <td>97.0</td>\n",
              "      <td>20484.848485</td>\n",
              "      <td>2014.1</td>\n",
              "      <td>3</td>\n",
              "    </tr>\n",
              "    <tr>\n",
              "      <th>4</th>\n",
              "      <td>96.0</td>\n",
              "      <td>23313.131313</td>\n",
              "      <td>2018.8</td>\n",
              "      <td>0</td>\n",
              "    </tr>\n",
              "    <tr>\n",
              "      <th>...</th>\n",
              "      <td>...</td>\n",
              "      <td>...</td>\n",
              "      <td>...</td>\n",
              "      <td>...</td>\n",
              "    </tr>\n",
              "    <tr>\n",
              "      <th>95</th>\n",
              "      <td>91.0</td>\n",
              "      <td>24444.444444</td>\n",
              "      <td>2446.5</td>\n",
              "      <td>0</td>\n",
              "    </tr>\n",
              "    <tr>\n",
              "      <th>96</th>\n",
              "      <td>106.0</td>\n",
              "      <td>20727.272727</td>\n",
              "      <td>2451.2</td>\n",
              "      <td>1</td>\n",
              "    </tr>\n",
              "    <tr>\n",
              "      <th>97</th>\n",
              "      <td>131.0</td>\n",
              "      <td>25656.565657</td>\n",
              "      <td>2455.9</td>\n",
              "      <td>2</td>\n",
              "    </tr>\n",
              "    <tr>\n",
              "      <th>98</th>\n",
              "      <td>25.0</td>\n",
              "      <td>22989.898990</td>\n",
              "      <td>2460.6</td>\n",
              "      <td>6</td>\n",
              "    </tr>\n",
              "    <tr>\n",
              "      <th>99</th>\n",
              "      <td>94.0</td>\n",
              "      <td>26868.686869</td>\n",
              "      <td>2465.3</td>\n",
              "      <td>5</td>\n",
              "    </tr>\n",
              "  </tbody>\n",
              "</table>\n",
              "<p>100 rows × 4 columns</p>\n",
              "</div>"
            ],
            "text/plain": [
              "    Feature1      Feature2  Feature3  Feature4\n",
              "0       83.0  22343.434343    2000.0         7\n",
              "1      137.0  24525.252525    2004.7         1\n",
              "2       17.0  22424.242424    2009.4         7\n",
              "3       97.0  20484.848485    2014.1         3\n",
              "4       96.0  23313.131313    2018.8         0\n",
              "..       ...           ...       ...       ...\n",
              "95      91.0  24444.444444    2446.5         0\n",
              "96     106.0  20727.272727    2451.2         1\n",
              "97     131.0  25656.565657    2455.9         2\n",
              "98      25.0  22989.898990    2460.6         6\n",
              "99      94.0  26868.686869    2465.3         5\n",
              "\n",
              "[100 rows x 4 columns]"
            ]
          },
          "metadata": {},
          "execution_count": 4
        }
      ]
    },
    {
      "cell_type": "code",
      "metadata": {
        "id": "KWqqmrVdq2p_"
      },
      "source": [
        "df['Feature1'] = np.random.permutation(df['Feature1'].values)\n",
        "df['Feature2'] = np.random.permutation(df['Feature2'].values)\n",
        "df['Feature3'] = np.random.permutation(df['Feature3'].values)\n",
        "df['Feature4'] = np.random.permutation(df['Feature4'].values)\n",
        "Categories= np.random.permutation(Categories)"
      ],
      "execution_count": 5,
      "outputs": []
    },
    {
      "cell_type": "code",
      "metadata": {
        "colab": {
          "base_uri": "https://localhost:8080/",
          "height": 424
        },
        "id": "Pn8dXJWCq2qA",
        "outputId": "2f2743c1-4c00-44d4-cb87-5fd47def3102"
      },
      "source": [
        "df"
      ],
      "execution_count": 6,
      "outputs": [
        {
          "output_type": "execute_result",
          "data": {
            "text/html": [
              "<div>\n",
              "<style scoped>\n",
              "    .dataframe tbody tr th:only-of-type {\n",
              "        vertical-align: middle;\n",
              "    }\n",
              "\n",
              "    .dataframe tbody tr th {\n",
              "        vertical-align: top;\n",
              "    }\n",
              "\n",
              "    .dataframe thead th {\n",
              "        text-align: right;\n",
              "    }\n",
              "</style>\n",
              "<table border=\"1\" class=\"dataframe\">\n",
              "  <thead>\n",
              "    <tr style=\"text-align: right;\">\n",
              "      <th></th>\n",
              "      <th>Feature1</th>\n",
              "      <th>Feature2</th>\n",
              "      <th>Feature3</th>\n",
              "      <th>Feature4</th>\n",
              "    </tr>\n",
              "  </thead>\n",
              "  <tbody>\n",
              "    <tr>\n",
              "      <th>0</th>\n",
              "      <td>96.0</td>\n",
              "      <td>26787.878788</td>\n",
              "      <td>2460.6</td>\n",
              "      <td>0</td>\n",
              "    </tr>\n",
              "    <tr>\n",
              "      <th>1</th>\n",
              "      <td>127.0</td>\n",
              "      <td>20000.000000</td>\n",
              "      <td>2098.7</td>\n",
              "      <td>0</td>\n",
              "    </tr>\n",
              "    <tr>\n",
              "      <th>2</th>\n",
              "      <td>79.0</td>\n",
              "      <td>23717.171717</td>\n",
              "      <td>2169.2</td>\n",
              "      <td>7</td>\n",
              "    </tr>\n",
              "    <tr>\n",
              "      <th>3</th>\n",
              "      <td>130.0</td>\n",
              "      <td>23232.323232</td>\n",
              "      <td>2126.9</td>\n",
              "      <td>9</td>\n",
              "    </tr>\n",
              "    <tr>\n",
              "      <th>4</th>\n",
              "      <td>25.0</td>\n",
              "      <td>22747.474747</td>\n",
              "      <td>2018.8</td>\n",
              "      <td>2</td>\n",
              "    </tr>\n",
              "    <tr>\n",
              "      <th>...</th>\n",
              "      <td>...</td>\n",
              "      <td>...</td>\n",
              "      <td>...</td>\n",
              "      <td>...</td>\n",
              "    </tr>\n",
              "    <tr>\n",
              "      <th>95</th>\n",
              "      <td>71.0</td>\n",
              "      <td>20242.424242</td>\n",
              "      <td>NaN</td>\n",
              "      <td>4</td>\n",
              "    </tr>\n",
              "    <tr>\n",
              "      <th>96</th>\n",
              "      <td>28.0</td>\n",
              "      <td>26222.222222</td>\n",
              "      <td>2183.3</td>\n",
              "      <td>9</td>\n",
              "    </tr>\n",
              "    <tr>\n",
              "      <th>97</th>\n",
              "      <td>28.0</td>\n",
              "      <td>20404.040404</td>\n",
              "      <td>2136.3</td>\n",
              "      <td>6</td>\n",
              "    </tr>\n",
              "    <tr>\n",
              "      <th>98</th>\n",
              "      <td>39.0</td>\n",
              "      <td>22181.818182</td>\n",
              "      <td>2079.9</td>\n",
              "      <td>4</td>\n",
              "    </tr>\n",
              "    <tr>\n",
              "      <th>99</th>\n",
              "      <td>73.0</td>\n",
              "      <td>21535.353535</td>\n",
              "      <td>2380.7</td>\n",
              "      <td>4</td>\n",
              "    </tr>\n",
              "  </tbody>\n",
              "</table>\n",
              "<p>100 rows × 4 columns</p>\n",
              "</div>"
            ],
            "text/plain": [
              "    Feature1      Feature2  Feature3  Feature4\n",
              "0       96.0  26787.878788    2460.6         0\n",
              "1      127.0  20000.000000    2098.7         0\n",
              "2       79.0  23717.171717    2169.2         7\n",
              "3      130.0  23232.323232    2126.9         9\n",
              "4       25.0  22747.474747    2018.8         2\n",
              "..       ...           ...       ...       ...\n",
              "95      71.0  20242.424242       NaN         4\n",
              "96      28.0  26222.222222    2183.3         9\n",
              "97      28.0  20404.040404    2136.3         6\n",
              "98      39.0  22181.818182    2079.9         4\n",
              "99      73.0  21535.353535    2380.7         4\n",
              "\n",
              "[100 rows x 4 columns]"
            ]
          },
          "metadata": {},
          "execution_count": 6
        }
      ]
    },
    {
      "cell_type": "code",
      "metadata": {
        "colab": {
          "base_uri": "https://localhost:8080/",
          "height": 424
        },
        "id": "xlk7SPlgq2qA",
        "outputId": "66de92f9-4d44-4bc7-bb8d-8d5c269d736a"
      },
      "source": [
        "for i in range(1,5):\n",
        "    df[f'Feature{i}'] = (df[f'Feature{i}']-np.mean(df[f'Feature{i}'],axis=0))/np.std(df[f'Feature{i}'],axis=0)\n",
        "df\n",
        "#Standardisation((x-x.mean)/standard deviation)"
      ],
      "execution_count": 7,
      "outputs": [
        {
          "output_type": "execute_result",
          "data": {
            "text/html": [
              "<div>\n",
              "<style scoped>\n",
              "    .dataframe tbody tr th:only-of-type {\n",
              "        vertical-align: middle;\n",
              "    }\n",
              "\n",
              "    .dataframe tbody tr th {\n",
              "        vertical-align: top;\n",
              "    }\n",
              "\n",
              "    .dataframe thead th {\n",
              "        text-align: right;\n",
              "    }\n",
              "</style>\n",
              "<table border=\"1\" class=\"dataframe\">\n",
              "  <thead>\n",
              "    <tr style=\"text-align: right;\">\n",
              "      <th></th>\n",
              "      <th>Feature1</th>\n",
              "      <th>Feature2</th>\n",
              "      <th>Feature3</th>\n",
              "      <th>Feature4</th>\n",
              "    </tr>\n",
              "  </thead>\n",
              "  <tbody>\n",
              "    <tr>\n",
              "      <th>0</th>\n",
              "      <td>0.498729</td>\n",
              "      <td>1.195175</td>\n",
              "      <td>1.659206</td>\n",
              "      <td>-1.533189</td>\n",
              "    </tr>\n",
              "    <tr>\n",
              "      <th>1</th>\n",
              "      <td>1.266451</td>\n",
              "      <td>-1.714816</td>\n",
              "      <td>-0.998826</td>\n",
              "      <td>-1.533189</td>\n",
              "    </tr>\n",
              "    <tr>\n",
              "      <th>2</th>\n",
              "      <td>0.077721</td>\n",
              "      <td>-0.121250</td>\n",
              "      <td>-0.481027</td>\n",
              "      <td>0.830759</td>\n",
              "    </tr>\n",
              "    <tr>\n",
              "      <th>3</th>\n",
              "      <td>1.340747</td>\n",
              "      <td>-0.329106</td>\n",
              "      <td>-0.791706</td>\n",
              "      <td>1.506172</td>\n",
              "    </tr>\n",
              "    <tr>\n",
              "      <th>4</th>\n",
              "      <td>-1.259601</td>\n",
              "      <td>-0.536963</td>\n",
              "      <td>-1.585664</td>\n",
              "      <td>-0.857775</td>\n",
              "    </tr>\n",
              "    <tr>\n",
              "      <th>...</th>\n",
              "      <td>...</td>\n",
              "      <td>...</td>\n",
              "      <td>...</td>\n",
              "      <td>...</td>\n",
              "    </tr>\n",
              "    <tr>\n",
              "      <th>95</th>\n",
              "      <td>-0.120401</td>\n",
              "      <td>-1.610888</td>\n",
              "      <td>NaN</td>\n",
              "      <td>-0.182362</td>\n",
              "    </tr>\n",
              "    <tr>\n",
              "      <th>96</th>\n",
              "      <td>-1.185305</td>\n",
              "      <td>0.952676</td>\n",
              "      <td>-0.377468</td>\n",
              "      <td>1.506172</td>\n",
              "    </tr>\n",
              "    <tr>\n",
              "      <th>97</th>\n",
              "      <td>-1.185305</td>\n",
              "      <td>-1.541602</td>\n",
              "      <td>-0.722667</td>\n",
              "      <td>0.493052</td>\n",
              "    </tr>\n",
              "    <tr>\n",
              "      <th>98</th>\n",
              "      <td>-0.912888</td>\n",
              "      <td>-0.779462</td>\n",
              "      <td>-1.136905</td>\n",
              "      <td>-0.182362</td>\n",
              "    </tr>\n",
              "    <tr>\n",
              "      <th>99</th>\n",
              "      <td>-0.070871</td>\n",
              "      <td>-1.056604</td>\n",
              "      <td>1.072368</td>\n",
              "      <td>-0.182362</td>\n",
              "    </tr>\n",
              "  </tbody>\n",
              "</table>\n",
              "<p>100 rows × 4 columns</p>\n",
              "</div>"
            ],
            "text/plain": [
              "    Feature1  Feature2  Feature3  Feature4\n",
              "0   0.498729  1.195175  1.659206 -1.533189\n",
              "1   1.266451 -1.714816 -0.998826 -1.533189\n",
              "2   0.077721 -0.121250 -0.481027  0.830759\n",
              "3   1.340747 -0.329106 -0.791706  1.506172\n",
              "4  -1.259601 -0.536963 -1.585664 -0.857775\n",
              "..       ...       ...       ...       ...\n",
              "95 -0.120401 -1.610888       NaN -0.182362\n",
              "96 -1.185305  0.952676 -0.377468  1.506172\n",
              "97 -1.185305 -1.541602 -0.722667  0.493052\n",
              "98 -0.912888 -0.779462 -1.136905 -0.182362\n",
              "99 -0.070871 -1.056604  1.072368 -0.182362\n",
              "\n",
              "[100 rows x 4 columns]"
            ]
          },
          "metadata": {},
          "execution_count": 7
        }
      ]
    },
    {
      "cell_type": "code",
      "metadata": {
        "id": "ylUu4uA9q2qB"
      },
      "source": [
        "df['Output'] = Categories"
      ],
      "execution_count": 8,
      "outputs": []
    },
    {
      "cell_type": "code",
      "metadata": {
        "colab": {
          "base_uri": "https://localhost:8080/",
          "height": 424
        },
        "id": "0QB4X_vTq2qC",
        "outputId": "0284e006-97f9-40fd-9b15-9776c789e2e5"
      },
      "source": [
        "df"
      ],
      "execution_count": 9,
      "outputs": [
        {
          "output_type": "execute_result",
          "data": {
            "text/html": [
              "<div>\n",
              "<style scoped>\n",
              "    .dataframe tbody tr th:only-of-type {\n",
              "        vertical-align: middle;\n",
              "    }\n",
              "\n",
              "    .dataframe tbody tr th {\n",
              "        vertical-align: top;\n",
              "    }\n",
              "\n",
              "    .dataframe thead th {\n",
              "        text-align: right;\n",
              "    }\n",
              "</style>\n",
              "<table border=\"1\" class=\"dataframe\">\n",
              "  <thead>\n",
              "    <tr style=\"text-align: right;\">\n",
              "      <th></th>\n",
              "      <th>Feature1</th>\n",
              "      <th>Feature2</th>\n",
              "      <th>Feature3</th>\n",
              "      <th>Feature4</th>\n",
              "      <th>Output</th>\n",
              "    </tr>\n",
              "  </thead>\n",
              "  <tbody>\n",
              "    <tr>\n",
              "      <th>0</th>\n",
              "      <td>0.498729</td>\n",
              "      <td>1.195175</td>\n",
              "      <td>1.659206</td>\n",
              "      <td>-1.533189</td>\n",
              "      <td>O</td>\n",
              "    </tr>\n",
              "    <tr>\n",
              "      <th>1</th>\n",
              "      <td>1.266451</td>\n",
              "      <td>-1.714816</td>\n",
              "      <td>-0.998826</td>\n",
              "      <td>-1.533189</td>\n",
              "      <td>N</td>\n",
              "    </tr>\n",
              "    <tr>\n",
              "      <th>2</th>\n",
              "      <td>0.077721</td>\n",
              "      <td>-0.121250</td>\n",
              "      <td>-0.481027</td>\n",
              "      <td>0.830759</td>\n",
              "      <td>P</td>\n",
              "    </tr>\n",
              "    <tr>\n",
              "      <th>3</th>\n",
              "      <td>1.340747</td>\n",
              "      <td>-0.329106</td>\n",
              "      <td>-0.791706</td>\n",
              "      <td>1.506172</td>\n",
              "      <td>N</td>\n",
              "    </tr>\n",
              "    <tr>\n",
              "      <th>4</th>\n",
              "      <td>-1.259601</td>\n",
              "      <td>-0.536963</td>\n",
              "      <td>-1.585664</td>\n",
              "      <td>-0.857775</td>\n",
              "      <td>M</td>\n",
              "    </tr>\n",
              "    <tr>\n",
              "      <th>...</th>\n",
              "      <td>...</td>\n",
              "      <td>...</td>\n",
              "      <td>...</td>\n",
              "      <td>...</td>\n",
              "      <td>...</td>\n",
              "    </tr>\n",
              "    <tr>\n",
              "      <th>95</th>\n",
              "      <td>-0.120401</td>\n",
              "      <td>-1.610888</td>\n",
              "      <td>NaN</td>\n",
              "      <td>-0.182362</td>\n",
              "      <td>N</td>\n",
              "    </tr>\n",
              "    <tr>\n",
              "      <th>96</th>\n",
              "      <td>-1.185305</td>\n",
              "      <td>0.952676</td>\n",
              "      <td>-0.377468</td>\n",
              "      <td>1.506172</td>\n",
              "      <td>O</td>\n",
              "    </tr>\n",
              "    <tr>\n",
              "      <th>97</th>\n",
              "      <td>-1.185305</td>\n",
              "      <td>-1.541602</td>\n",
              "      <td>-0.722667</td>\n",
              "      <td>0.493052</td>\n",
              "      <td>N</td>\n",
              "    </tr>\n",
              "    <tr>\n",
              "      <th>98</th>\n",
              "      <td>-0.912888</td>\n",
              "      <td>-0.779462</td>\n",
              "      <td>-1.136905</td>\n",
              "      <td>-0.182362</td>\n",
              "      <td>M</td>\n",
              "    </tr>\n",
              "    <tr>\n",
              "      <th>99</th>\n",
              "      <td>-0.070871</td>\n",
              "      <td>-1.056604</td>\n",
              "      <td>1.072368</td>\n",
              "      <td>-0.182362</td>\n",
              "      <td>M</td>\n",
              "    </tr>\n",
              "  </tbody>\n",
              "</table>\n",
              "<p>100 rows × 5 columns</p>\n",
              "</div>"
            ],
            "text/plain": [
              "    Feature1  Feature2  Feature3  Feature4 Output\n",
              "0   0.498729  1.195175  1.659206 -1.533189      O\n",
              "1   1.266451 -1.714816 -0.998826 -1.533189      N\n",
              "2   0.077721 -0.121250 -0.481027  0.830759      P\n",
              "3   1.340747 -0.329106 -0.791706  1.506172      N\n",
              "4  -1.259601 -0.536963 -1.585664 -0.857775      M\n",
              "..       ...       ...       ...       ...    ...\n",
              "95 -0.120401 -1.610888       NaN -0.182362      N\n",
              "96 -1.185305  0.952676 -0.377468  1.506172      O\n",
              "97 -1.185305 -1.541602 -0.722667  0.493052      N\n",
              "98 -0.912888 -0.779462 -1.136905 -0.182362      M\n",
              "99 -0.070871 -1.056604  1.072368 -0.182362      M\n",
              "\n",
              "[100 rows x 5 columns]"
            ]
          },
          "metadata": {},
          "execution_count": 9
        }
      ]
    },
    {
      "cell_type": "code",
      "metadata": {
        "id": "hAhTKXmsq2qD"
      },
      "source": [
        "\n",
        "df = df.fillna(df.mean(),axis=0)\n"
      ],
      "execution_count": 10,
      "outputs": []
    },
    {
      "cell_type": "code",
      "metadata": {
        "colab": {
          "base_uri": "https://localhost:8080/",
          "height": 424
        },
        "id": "GFbt0Yt4q2qE",
        "outputId": "ce12dd5a-23f8-4eca-fbcc-ae4a2191d342"
      },
      "source": [
        "X = df.iloc[:,:-1]\n",
        "y = df.iloc[:,-1]\n",
        "X\n",
        "#Input data"
      ],
      "execution_count": 11,
      "outputs": [
        {
          "output_type": "execute_result",
          "data": {
            "text/html": [
              "<div>\n",
              "<style scoped>\n",
              "    .dataframe tbody tr th:only-of-type {\n",
              "        vertical-align: middle;\n",
              "    }\n",
              "\n",
              "    .dataframe tbody tr th {\n",
              "        vertical-align: top;\n",
              "    }\n",
              "\n",
              "    .dataframe thead th {\n",
              "        text-align: right;\n",
              "    }\n",
              "</style>\n",
              "<table border=\"1\" class=\"dataframe\">\n",
              "  <thead>\n",
              "    <tr style=\"text-align: right;\">\n",
              "      <th></th>\n",
              "      <th>Feature1</th>\n",
              "      <th>Feature2</th>\n",
              "      <th>Feature3</th>\n",
              "      <th>Feature4</th>\n",
              "    </tr>\n",
              "  </thead>\n",
              "  <tbody>\n",
              "    <tr>\n",
              "      <th>0</th>\n",
              "      <td>0.498729</td>\n",
              "      <td>1.195175</td>\n",
              "      <td>1.659206e+00</td>\n",
              "      <td>-1.533189</td>\n",
              "    </tr>\n",
              "    <tr>\n",
              "      <th>1</th>\n",
              "      <td>1.266451</td>\n",
              "      <td>-1.714816</td>\n",
              "      <td>-9.988257e-01</td>\n",
              "      <td>-1.533189</td>\n",
              "    </tr>\n",
              "    <tr>\n",
              "      <th>2</th>\n",
              "      <td>0.077721</td>\n",
              "      <td>-0.121250</td>\n",
              "      <td>-4.810273e-01</td>\n",
              "      <td>0.830759</td>\n",
              "    </tr>\n",
              "    <tr>\n",
              "      <th>3</th>\n",
              "      <td>1.340747</td>\n",
              "      <td>-0.329106</td>\n",
              "      <td>-7.917063e-01</td>\n",
              "      <td>1.506172</td>\n",
              "    </tr>\n",
              "    <tr>\n",
              "      <th>4</th>\n",
              "      <td>-1.259601</td>\n",
              "      <td>-0.536963</td>\n",
              "      <td>-1.585664e+00</td>\n",
              "      <td>-0.857775</td>\n",
              "    </tr>\n",
              "    <tr>\n",
              "      <th>...</th>\n",
              "      <td>...</td>\n",
              "      <td>...</td>\n",
              "      <td>...</td>\n",
              "      <td>...</td>\n",
              "    </tr>\n",
              "    <tr>\n",
              "      <th>95</th>\n",
              "      <td>-0.120401</td>\n",
              "      <td>-1.610888</td>\n",
              "      <td>9.719279e-15</td>\n",
              "      <td>-0.182362</td>\n",
              "    </tr>\n",
              "    <tr>\n",
              "      <th>96</th>\n",
              "      <td>-1.185305</td>\n",
              "      <td>0.952676</td>\n",
              "      <td>-3.774676e-01</td>\n",
              "      <td>1.506172</td>\n",
              "    </tr>\n",
              "    <tr>\n",
              "      <th>97</th>\n",
              "      <td>-1.185305</td>\n",
              "      <td>-1.541602</td>\n",
              "      <td>-7.226665e-01</td>\n",
              "      <td>0.493052</td>\n",
              "    </tr>\n",
              "    <tr>\n",
              "      <th>98</th>\n",
              "      <td>-0.912888</td>\n",
              "      <td>-0.779462</td>\n",
              "      <td>-1.136905e+00</td>\n",
              "      <td>-0.182362</td>\n",
              "    </tr>\n",
              "    <tr>\n",
              "      <th>99</th>\n",
              "      <td>-0.070871</td>\n",
              "      <td>-1.056604</td>\n",
              "      <td>1.072368e+00</td>\n",
              "      <td>-0.182362</td>\n",
              "    </tr>\n",
              "  </tbody>\n",
              "</table>\n",
              "<p>100 rows × 4 columns</p>\n",
              "</div>"
            ],
            "text/plain": [
              "    Feature1  Feature2      Feature3  Feature4\n",
              "0   0.498729  1.195175  1.659206e+00 -1.533189\n",
              "1   1.266451 -1.714816 -9.988257e-01 -1.533189\n",
              "2   0.077721 -0.121250 -4.810273e-01  0.830759\n",
              "3   1.340747 -0.329106 -7.917063e-01  1.506172\n",
              "4  -1.259601 -0.536963 -1.585664e+00 -0.857775\n",
              "..       ...       ...           ...       ...\n",
              "95 -0.120401 -1.610888  9.719279e-15 -0.182362\n",
              "96 -1.185305  0.952676 -3.774676e-01  1.506172\n",
              "97 -1.185305 -1.541602 -7.226665e-01  0.493052\n",
              "98 -0.912888 -0.779462 -1.136905e+00 -0.182362\n",
              "99 -0.070871 -1.056604  1.072368e+00 -0.182362\n",
              "\n",
              "[100 rows x 4 columns]"
            ]
          },
          "metadata": {},
          "execution_count": 11
        }
      ]
    },
    {
      "cell_type": "code",
      "metadata": {
        "colab": {
          "base_uri": "https://localhost:8080/",
          "height": 0
        },
        "id": "YV93014kq2qF",
        "outputId": "d4bbad78-0e49-4655-9613-27898c92ea06"
      },
      "source": [
        "y\n",
        "#Output Data"
      ],
      "execution_count": 12,
      "outputs": [
        {
          "output_type": "execute_result",
          "data": {
            "text/plain": [
              "0     O\n",
              "1     N\n",
              "2     P\n",
              "3     N\n",
              "4     M\n",
              "     ..\n",
              "95    N\n",
              "96    O\n",
              "97    N\n",
              "98    M\n",
              "99    M\n",
              "Name: Output, Length: 100, dtype: object"
            ]
          },
          "metadata": {},
          "execution_count": 12
        }
      ]
    },
    {
      "cell_type": "code",
      "metadata": {
        "id": "vdnrAkSSq2qG"
      },
      "source": [
        "from sklearn.model_selection import train_test_split\n",
        "X_train,X_test,y_train,y_test = train_test_split(X,y,test_size=1/4,random_state=0)"
      ],
      "execution_count": 13,
      "outputs": []
    },
    {
      "cell_type": "code",
      "metadata": {
        "colab": {
          "base_uri": "https://localhost:8080/",
          "height": 0
        },
        "id": "oP7jh9bmq2qG",
        "outputId": "f4c36279-d687-4430-f621-fa35a66911b8"
      },
      "source": [
        "from sklearn.svm import SVC\n",
        "classifier = SVC(kernel = 'poly', random_state = 0)\n",
        "classifier.fit(X_train, y_train)\n",
        "\n"
      ],
      "execution_count": 14,
      "outputs": [
        {
          "output_type": "execute_result",
          "data": {
            "text/plain": [
              "SVC(kernel='poly', random_state=0)"
            ]
          },
          "metadata": {},
          "execution_count": 14
        }
      ]
    },
    {
      "cell_type": "code",
      "metadata": {
        "id": "UHTnLSvoq2qH"
      },
      "source": [
        "y_pred = classifier.predict(X_test)"
      ],
      "execution_count": 15,
      "outputs": []
    },
    {
      "cell_type": "code",
      "metadata": {
        "colab": {
          "base_uri": "https://localhost:8080/",
          "height": 0
        },
        "id": "mRvZJxaqq2qH",
        "outputId": "e20095ee-867d-4ad1-c017-93138cc52e90"
      },
      "source": [
        "print(y_pred)"
      ],
      "execution_count": 16,
      "outputs": [
        {
          "output_type": "stream",
          "name": "stdout",
          "text": [
            "['M' 'N' 'N' 'N' 'M' 'O' 'N' 'N' 'N' 'N' 'N' 'N' 'M' 'M' 'N' 'N' 'N' 'N'\n",
            " 'N' 'O' 'O' 'N' 'N' 'O' 'O']\n"
          ]
        }
      ]
    },
    {
      "cell_type": "code",
      "metadata": {
        "colab": {
          "base_uri": "https://localhost:8080/",
          "height": 0
        },
        "id": "ETMYI_Tfq2qH",
        "outputId": "1cd1478f-c0f6-4abb-a2b0-0fe6da0f0047"
      },
      "source": [
        "y_test"
      ],
      "execution_count": 17,
      "outputs": [
        {
          "output_type": "execute_result",
          "data": {
            "text/plain": [
              "26    M\n",
              "86    O\n",
              "2     P\n",
              "55    O\n",
              "75    O\n",
              "93    P\n",
              "16    M\n",
              "73    P\n",
              "54    P\n",
              "95    N\n",
              "53    P\n",
              "92    M\n",
              "78    P\n",
              "13    O\n",
              "7     P\n",
              "30    N\n",
              "22    P\n",
              "24    N\n",
              "33    O\n",
              "8     N\n",
              "43    M\n",
              "62    M\n",
              "3     N\n",
              "71    O\n",
              "45    M\n",
              "Name: Output, dtype: object"
            ]
          },
          "metadata": {},
          "execution_count": 17
        }
      ]
    },
    {
      "cell_type": "code",
      "metadata": {
        "colab": {
          "base_uri": "https://localhost:8080/",
          "height": 0
        },
        "id": "PUtIo2wFq2qI",
        "outputId": "4c178be4-c6a6-4fd9-d1fe-1a27608d21e8"
      },
      "source": [
        "from sklearn import metrics\n",
        "print(metrics.accuracy_score(y_pred,y_test)*100)"
      ],
      "execution_count": 18,
      "outputs": [
        {
          "output_type": "stream",
          "name": "stdout",
          "text": [
            "24.0\n"
          ]
        }
      ]
    },
    {
      "cell_type": "code",
      "metadata": {
        "id": "boNNSu_Xq2qI"
      },
      "source": [
        ""
      ],
      "execution_count": null,
      "outputs": []
    }
  ]
}